{
 "cells": [
  {
   "cell_type": "code",
   "execution_count": 1,
   "metadata": {
    "collapsed": false
   },
   "outputs": [
    {
     "name": "stdout",
     "output_type": "stream",
     "text": [
      "   a      b    c  d\n",
      "0  1  a b c  5.0  3\n",
      "1  2    d e  3.0  2\n",
      "2  2    NaN  NaN  0\n"
     ]
    }
   ],
   "source": [
    "import pandas as pd\n",
    "d = pd.DataFrame([{\"a\": 1, \"b\": \"a b c\"},\n",
    "                  {\"a\": 2, \"b\": \"d e\"},\n",
    "                  {\"a\": 2},\n",
    "                 ])\n",
    "\n",
    "d[\"c\"] = d[\"b\"].str.len()\n",
    "d[\"d\"] = d[\"b\"].apply(lambda x: 0 if pd.isnull(x) else len(x.split()))\n",
    "\n",
    "print(d)"
   ]
  },
  {
   "cell_type": "code",
   "execution_count": null,
   "metadata": {
    "collapsed": true
   },
   "outputs": [],
   "source": []
  }
 ],
 "metadata": {
  "kernelspec": {
   "display_name": "Python 3",
   "language": "python",
   "name": "python3"
  },
  "language_info": {
   "codemirror_mode": {
    "name": "ipython",
    "version": 3
   },
   "file_extension": ".py",
   "mimetype": "text/x-python",
   "name": "python",
   "nbconvert_exporter": "python",
   "pygments_lexer": "ipython3",
   "version": "3.6.0"
  }
 },
 "nbformat": 4,
 "nbformat_minor": 2
}
