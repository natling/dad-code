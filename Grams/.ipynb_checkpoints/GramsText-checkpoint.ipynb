{
 "cells": [
  {
   "cell_type": "code",
   "execution_count": 199,
   "metadata": {
    "collapsed": true,
    "scrolled": true
   },
   "outputs": [],
   "source": [
    "'''\n",
    "Created on Feb 9, 2017\n",
    "\n",
    "@author: lbraginsky\n",
    "'''\n",
    "from __future__ import print_function\n",
    "\n",
    "CORPORA = [\"~/n-grams_data/w5.txt\"]\n",
    "# CORPORA = [\"~/n-grams_data/w3.txt\", \"~/n-grams_data/w4.txt\", \"~/n-grams_data/w5.txt\"]\n",
    "# CORPORA = [\"~/Dropbox/Public/Miscellaneous/Code/Python/5-grams non case sensitive.txt\"]\n",
    "TEXT_LEN = 200\n",
    "TEXT_LEN2 = 300\n",
    "SHOW_GENERATION = False"
   ]
  },
  {
   "cell_type": "code",
   "execution_count": 180,
   "metadata": {
    "collapsed": true,
    "scrolled": true
   },
   "outputs": [],
   "source": [
    "from random import random\n",
    "from bisect import bisect\n",
    "\n",
    "def weighted_choice(choices):\n",
    "    \"\"\"Random choice from weighted values\"\"\"\n",
    "    values, weights = zip(*choices)\n",
    "    total = 0\n",
    "    cum_weights = []\n",
    "    for w in weights:\n",
    "        total += w\n",
    "        cum_weights.append(total)\n",
    "    x = random() * total\n",
    "    i = bisect(cum_weights, x)\n",
    "    return values[i]"
   ]
  },
  {
   "cell_type": "code",
   "execution_count": 181,
   "metadata": {
    "collapsed": false,
    "scrolled": true
   },
   "outputs": [],
   "source": [
    "from collections import defaultdict, Counter\n",
    "\n",
    "class Trie(object):\n",
    "    \"\"\"Trie structure to hold the grams\"\"\"\n",
    "    def __init__(self):\n",
    "        self.count = 0\n",
    "        self.dict = defaultdict(Trie)\n",
    "    def add(self, gram, count=1):\n",
    "        \"\"\"Add the gram to the trie\"\"\"\n",
    "        node = self\n",
    "        node.count += count\n",
    "        for word in gram:\n",
    "            node = node.dict[word]\n",
    "            node.count += count\n",
    "    def random_tail(self, prefix):\n",
    "        \"\"\"Find the prefix in the trie and generate a random continuation.\n",
    "        If the prefix is not in the trie return None.\n",
    "        At each node select a random branch with probability proportional to the branch frequency.\"\"\"\n",
    "        node = self\n",
    "        for word in prefix:\n",
    "            node = node.dict.get(word)\n",
    "            if not node: return None\n",
    "        tail = []\n",
    "        while node.dict:\n",
    "            choices = [(word, sub.count) for word, sub in node.dict.iteritems()]\n",
    "            word = weighted_choice(choices)\n",
    "            tail.append(word)\n",
    "            node = node.dict[word]\n",
    "        return tail\n",
    "    def count_nodes(self):\n",
    "        return 1 + sum(node.count_nodes() for node in self.dict.values())\n",
    "    def count_grams(self):\n",
    "        return sum(node.count_grams() for node in self.dict.values()) if self.dict else 1\n",
    "    def branching(self):\n",
    "        def br(node):\n",
    "            if node.dict:\n",
    "                for sub in node.dict.values():\n",
    "                    for factor in br(sub): yield factor\n",
    "                yield len(node.dict)\n",
    "        bc = Counter(br(self))\n",
    "        return sorted(bc.iteritems())"
   ]
  },
  {
   "cell_type": "code",
   "execution_count": 182,
   "metadata": {
    "collapsed": false,
    "scrolled": true
   },
   "outputs": [],
   "source": [
    "from os.path import expanduser\n",
    "\n",
    "def load_corpora(corpora):\n",
    "    try:\n",
    "        print(\"Corpora: {}\".format(corpora))\n",
    "        trie = Trie()\n",
    "        for corpus_file in corpora:\n",
    "            corpus_file = expanduser(corpus_file)\n",
    "            with open(corpus_file) as f:\n",
    "                data = list(f)\n",
    "            print(\"{} {:,} lines\".format(corpus_file, len(data)))\n",
    "            add_corpus_to_trie(trie, data)\n",
    "        return trie\n",
    "    except IOError as err:\n",
    "        print(\"OS error: {}\".format(err))\n",
    "\n",
    "def add_corpus_to_trie(trie, corpus):\n",
    "    print(\"adding to trie\")\n",
    "    i = 0\n",
    "    for line in corpus:\n",
    "        words = line.split()\n",
    "        trie.add(words[1:], int(words[0]))\n",
    "        i += 1\n",
    "        if i % 10000 == 0: print(i/100000 if i%100000==0 else '.', end='')\n",
    "    print(\"done {:,}\".format(i))\n",
    "    return trie"
   ]
  },
  {
   "cell_type": "code",
   "execution_count": 197,
   "metadata": {
    "collapsed": true,
    "scrolled": true
   },
   "outputs": [],
   "source": [
    "def generate_text(trie, prefix='', break_cycles=True):\n",
    "    print(\"prefix={}\\nbreak_cycles={}\".format(repr(prefix), break_cycles))\n",
    "    prefix = prefix.split()\n",
    "    raw_text, text = [], []\n",
    "    def out(tail):\n",
    "        if not tail: return 0\n",
    "        raw_text.extend(tail)\n",
    "        if not text: text.append([])\n",
    "        words = text[-1]\n",
    "        count = 0\n",
    "        for w in tail:\n",
    "            if w == \"n't\" and words:\n",
    "                words[-1] += w\n",
    "            else:\n",
    "                words.append(w)\n",
    "                count += 1\n",
    "        return count\n",
    "    count = out(prefix)\n",
    "    while count < TEXT_LEN2:\n",
    "        while True:\n",
    "            tail = trie.random_tail(prefix)\n",
    "            if tail: break\n",
    "            prefix = prefix[1:]\n",
    "        if SHOW_GENERATION:\n",
    "            print('{:>30} | {}'.format(' '.join(prefix), ' '.join(tail)))\n",
    "        if not prefix:\n",
    "            if count >= TEXT_LEN: break\n",
    "            text.append([])\n",
    "        count += out(tail)\n",
    "        if break_cycles and detect_cycle(raw_text):\n",
    "            prefix = []\n",
    "        else:\n",
    "            prefix = raw_text[-3:]\n",
    "    print(\"words: {}\\nparagraphs: {}\".format(count, len(text)))\n",
    "    return text\n",
    "\n",
    "def detect_cycle(words):\n",
    "    n = len(words)\n",
    "    for cyclen in range(2, 10):\n",
    "        if n < 3 * cyclen: break\n",
    "        cyc = words[n-cyclen:n]\n",
    "        if all(words[n-(k+2)*cyclen:n-(k+1)*cyclen] == cyc for k in range(2)):\n",
    "            return True\n",
    "    return False"
   ]
  },
  {
   "cell_type": "code",
   "execution_count": 184,
   "metadata": {
    "collapsed": false,
    "scrolled": true
   },
   "outputs": [
    {
     "name": "stdout",
     "output_type": "stream",
     "text": [
      "Corpora: ['~/n-grams_data/w5.txt']\n",
      "/Users/lbraginsky/n-grams_data/w5.txt 989,587 lines\n",
      "adding to trie\n",
      ".........1.........2.........3.........4.........5.........6.........7.........8.........9........done 989,587\n"
     ]
    }
   ],
   "source": [
    "trie = load_corpora(CORPORA)"
   ]
  },
  {
   "cell_type": "code",
   "execution_count": 200,
   "metadata": {
    "collapsed": false,
    "scrolled": false
   },
   "outputs": [
    {
     "name": "stdout",
     "output_type": "stream",
     "text": [
      "prefix='once upon a'\n",
      "break_cycles=True\n",
      "words: 225\n",
      "paragraphs: 3\n",
      "\n",
      "Generated Text\n",
      "\n",
      "once upon a time I didn't really know for sure what the hell are you talking about when you run out of town by the end of January and February of this study is to examine the relationship between the United States and the world will be able to hold out hope that there will be a hearing in front of the bed and the connections between technology and other members of the religious right and the duty to take care of my family and the rest of the day was that he wanted to do something for the American people that you want to be in New York and Florida State coach Bobby Bowden\n",
      "\n",
      "such a way that it wasn't a joke out of it as a sign of a more personal nature of the relationship between social isolation from the rest of your life in jail for a long time to wait for her to wake up in the middle of the night at the end of the semester\n",
      "\n",
      "his second tour of duty in Vietnam and the United States with the use of the Internet and in the past few years he worked as a photographer for the rest of the country that is the opposite of what they needed to do was show up at the hospital for the criminally insane\n"
     ]
    }
   ],
   "source": [
    "prefix = \"once upon a\"\n",
    "text = generate_text(trie, prefix)\n",
    "print(\"\\nGenerated Text\\n\")\n",
    "print('\\n\\n'.join(' '.join(words) for words in text))"
   ]
  },
  {
   "cell_type": "code",
   "execution_count": 201,
   "metadata": {
    "collapsed": false,
    "scrolled": false
   },
   "outputs": [
    {
     "name": "stdout",
     "output_type": "stream",
     "text": [
      "Trie stats\n",
      "Grams: 989,587\n",
      "Nodes: 2,032,967\n"
     ]
    }
   ],
   "source": [
    "print(\"Trie stats\")\n",
    "print(\"Grams: {:,}\".format(trie.count_grams()))\n",
    "print(\"Nodes: {:,}\".format(trie.count_nodes()))"
   ]
  },
  {
   "cell_type": "code",
   "execution_count": 202,
   "metadata": {
    "collapsed": false
   },
   "outputs": [
    {
     "data": {
      "image/png": "[encoded data removed]",
      "text/plain": [
       "<matplotlib.figure.Figure at 0x148ae8410>"
      ]
     },
     "metadata": {},
     "output_type": "display_data"
    }
   ],
   "source": [
    "import matplotlib.pyplot as plt\n",
    "%matplotlib inline\n",
    "\n",
    "def branching_plot(data):\n",
    "    x, y = zip(*data)\n",
    "    plt.loglog(x, y)\n",
    "    plt.title('Trie Branching')\n",
    "    plt.xlabel('Branching')\n",
    "    plt.ylabel('Count')\n",
    "    plt.grid(True)\n",
    "\n",
    "branching = trie.branching()\n",
    "filtered = [(factor, count) for factor, count in branching if factor >= 20 and factor <= 1000]\n",
    "\n",
    "plt.figure(figsize=(16, 5))\n",
    "plt.subplot(121)\n",
    "branching_plot(branching)\n",
    "plt.subplot(122)\n",
    "branching_plot(filtered)"
   ]
  }
 ],
 "metadata": {
  "kernelspec": {
   "display_name": "Python 2",
   "language": "python",
   "name": "python2"
  },
  "language_info": {
   "codemirror_mode": {
    "name": "ipython",
    "version": 2
   },
   "file_extension": ".py",
   "mimetype": "text/x-python",
   "name": "python",
   "nbconvert_exporter": "python",
   "pygments_lexer": "ipython2",
   "version": "2.7.13"
  }
 },
 "nbformat": 4,
 "nbformat_minor": 2
}
